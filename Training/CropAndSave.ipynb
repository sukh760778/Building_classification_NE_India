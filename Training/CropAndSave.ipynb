{
 "cells": [
  {
   "cell_type": "code",
   "execution_count": null,
   "metadata": {},
   "outputs": [],
   "source": [
    "from pathlib import Path\n",
    "import cv2\n",
    "\n",
    "foldr_src = r'/content/drive/MyDrive/Images_raw'\n",
    "foldr_dep = r'/content/drive/MyDrive/dep' # Change to what is needed\n",
    "\n",
    "x,y = 6656,2138 #Our downloaded images were 6656X3328px "
   ]
  },
  {
   "cell_type": "code",
   "execution_count": null,
   "metadata": {},
   "outputs": [],
   "source": [
    "def find_raw(path = None):\n",
    "  \"\"\"\n",
    "  This function returns a List[Path, ...] that contains \n",
    "  all images with ['jpg', 'jpeg', 'png'] extensions\n",
    "\n",
    "  Defaults to the global variable foldr_src if no path is provided \n",
    "  \"\"\"\n",
    "  if path is None:\n",
    "    global foldr_src\n",
    "    path = foldr_src\n",
    "  path = Path(path)\n",
    "  return [i for ext in ['jpg', 'jpeg', 'png'] for i in path.glob(f'**/*.{ext}')]\n",
    "\n",
    "def parts_of_img(img,x,y):\n",
    "    \"\"\"\n",
    "    Inputs : \n",
    "        img: Numpy array\n",
    "        x: horizontal pixel length\n",
    "        y: vertical pixel length wanted \n",
    "    Returns a List[numpy array, numpy array]\n",
    "    Converts input numpy array into two images, one has '0' to 'x//2' pixels of the original and the other has 'x//2' to 'x'\n",
    "    Both have 'y' pixels vertically\n",
    "    \"\"\"\n",
    "    return [\n",
    "        img[0:y,0:x//2],\n",
    "        img[0:y,x//2:x]\n",
    "        ]\n",
    "\n",
    "def save(img,num,coord,path = None):\n",
    "  \"\"\"\n",
    "  Inputs:\n",
    "    img: Numpy Array\n",
    "    num: Input designating the \n",
    "    coord: the coordinates of the image\n",
    "    path: the folder where the image is to be saved, defaults to 'foldr_dep' global variable if not defined\n",
    "  \"\"\"\n",
    "  if path is None:\n",
    "    global foldr_dep\n",
    "    path = foldr_dep\n",
    "  path = path+f'/{coord}__{num}.jpg'\n",
    "  cv2.imwrite(path,img)\n",
    "  \n",
    "\n",
    "def get_coords(path):\n",
    "  \"\"\"\n",
    "  A parser function that parses through the name of the image and gets the coordinates mentioned in the same\n",
    "  Works specifically with our conventions\n",
    "  \"\"\"\n",
    "  path = path.split('/')[-1].split(' ')\n",
    "  x,y = path[-2],path[-1].split('.')[0]+path[-1].split('.')[1]\n",
    "  return x+'_'+y\n"
   ]
  },
  {
   "cell_type": "code",
   "execution_count": null,
   "metadata": {},
   "outputs": [],
   "source": [
    "\"\"\"\n",
    "Section that gets the images and counts them as well as sets checkpoint for a clearer output\n",
    "\"\"\"\n",
    "image_paths = []\n",
    "\n",
    "for path in find_raw():\n",
    "  image_paths.append(path)\n",
    "\n",
    "total = (len(image_paths))*2\n",
    "checkpoints = [num for num in range(1, total, total//10)]"
   ]
  },
  {
   "cell_type": "code",
   "execution_count": null,
   "metadata": {},
   "outputs": [],
   "source": [
    "\"\"\"\n",
    "Main code\n",
    "\"\"\"\n",
    "print(f'Images found = {total}')\n",
    "print('Starting process: |',end = '')\n",
    "\n",
    "count = 1\n",
    "for path in image_paths:\n",
    "  path = str(path) # Convert to string for easy processing\n",
    "  coords = get_coords(path) #Gets the coordinates from the image name\n",
    "  img = cv2.imread(path) #Reads the image using OpenCv\n",
    "  img = parts_of_img(img,x,y) #Image is split in two\n",
    "  for j in img:\n",
    "    path_2 = foldr_dep\n",
    "    save(j,count,coords,path_2)\n",
    "    count += 1\n",
    "    print('#',end = '')\n",
    "    if(count in checkpoints):\n",
    "      print()\n",
    "print('|')\n",
    "print('Done')"
   ]
  },
  {
   "cell_type": "code",
   "execution_count": null,
   "metadata": {},
   "outputs": [],
   "source": [
    "\"\"\"\n",
    "To keep track of progress\n",
    "\"\"\"\n",
    "with open('/content/drive/MyDrive/count.txt','w') as f:\n",
    "  f.write(str(total))\n",
    "  print(total)"
   ]
  }
 ],
 "metadata": {
  "language_info": {
   "name": "python"
  }
 },
 "nbformat": 4,
 "nbformat_minor": 2
}
